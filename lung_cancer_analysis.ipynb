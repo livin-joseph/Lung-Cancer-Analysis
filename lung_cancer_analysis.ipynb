{
 "cells": [
  {
   "cell_type": "markdown",
   "metadata": {},
   "source": [
    "# Importing dataset"
   ]
  },
  {
   "cell_type": "code",
   "execution_count": 2,
   "metadata": {
    "tags": []
   },
   "outputs": [
    {
     "name": "stdout",
     "output_type": "stream",
     "text": [
      "    GENDER  AGE  SMOKING  YELLOW_FINGERS  ANXIETY  PEER_PRESSURE  \\\n",
      "0        M   69        1               2        2              1   \n",
      "1        M   74        2               1        1              1   \n",
      "2        F   59        1               1        1              2   \n",
      "3        M   63        2               2        2              1   \n",
      "4        F   63        1               2        1              1   \n",
      "..     ...  ...      ...             ...      ...            ...   \n",
      "304      F   56        1               1        1              2   \n",
      "305      M   70        2               1        1              1   \n",
      "306      M   58        2               1        1              1   \n",
      "307      M   67        2               1        2              1   \n",
      "308      M   62        1               1        1              2   \n",
      "\n",
      "     CHRONIC DISEASE  FATIGUE   ALLERGY   WHEEZING  ALCOHOL CONSUMING  \\\n",
      "0                  1         2         1         2                  2   \n",
      "1                  2         2         2         1                  1   \n",
      "2                  1         2         1         2                  1   \n",
      "3                  1         1         1         1                  2   \n",
      "4                  1         1         1         2                  1   \n",
      "..               ...       ...       ...       ...                ...   \n",
      "304                2         2         1         1                  2   \n",
      "305                1         2         2         2                  2   \n",
      "306                1         1         2         2                  2   \n",
      "307                1         2         2         1                  2   \n",
      "308                1         2         2         2                  2   \n",
      "\n",
      "     COUGHING  SHORTNESS OF BREATH  SWALLOWING DIFFICULTY  CHEST PAIN  \\\n",
      "0           2                    2                      2           2   \n",
      "1           1                    2                      2           2   \n",
      "2           2                    2                      1           2   \n",
      "3           1                    1                      2           2   \n",
      "4           2                    2                      1           1   \n",
      "..        ...                  ...                    ...         ...   \n",
      "304         2                    2                      2           1   \n",
      "305         2                    2                      1           2   \n",
      "306         2                    1                      1           2   \n",
      "307         2                    2                      1           2   \n",
      "308         1                    1                      2           1   \n",
      "\n",
      "    LUNG_CANCER  \n",
      "0           YES  \n",
      "1           YES  \n",
      "2            NO  \n",
      "3            NO  \n",
      "4            NO  \n",
      "..          ...  \n",
      "304         YES  \n",
      "305         YES  \n",
      "306         YES  \n",
      "307         YES  \n",
      "308         YES  \n",
      "\n",
      "[309 rows x 16 columns]\n"
     ]
    }
   ],
   "source": [
    "import pandas\n",
    "\n",
    "df = pandas.read_csv('survey lung cancer.csv')\n",
    "print(df)"
   ]
  },
  {
   "cell_type": "markdown",
   "metadata": {},
   "source": [
    "# Data Cleaning"
   ]
  },
  {
   "cell_type": "code",
   "execution_count": 3,
   "metadata": {},
   "outputs": [
    {
     "data": {
      "text/plain": [
       "'\\nprint(df.shape)\\nprint(df.duplicated().sum())\\ndf = df.drop_duplicates()\\nprint(df)\\nprint(df.shape)\\n'"
      ]
     },
     "execution_count": 3,
     "metadata": {},
     "output_type": "execute_result"
    }
   ],
   "source": [
    "# Remove duplicate rows\n",
    "\n",
    "'''\n",
    "print(df.shape)\n",
    "print(df.duplicated().sum())\n",
    "df = df.drop_duplicates()\n",
    "print(df)\n",
    "print(df.shape)\n",
    "'''"
   ]
  },
  {
   "cell_type": "code",
   "execution_count": 4,
   "metadata": {},
   "outputs": [
    {
     "name": "stdout",
     "output_type": "stream",
     "text": [
      "GENDER                   0\n",
      "AGE                      0\n",
      "SMOKING                  0\n",
      "YELLOW_FINGERS           0\n",
      "ANXIETY                  0\n",
      "PEER_PRESSURE            0\n",
      "CHRONIC DISEASE          0\n",
      "FATIGUE                  0\n",
      "ALLERGY                  0\n",
      "WHEEZING                 0\n",
      "ALCOHOL CONSUMING        0\n",
      "COUGHING                 0\n",
      "SHORTNESS OF BREATH      0\n",
      "SWALLOWING DIFFICULTY    0\n",
      "CHEST PAIN               0\n",
      "LUNG_CANCER              0\n",
      "dtype: int64\n"
     ]
    }
   ],
   "source": [
    "print(df.isnull().sum())"
   ]
  },
  {
   "cell_type": "code",
   "execution_count": 5,
   "metadata": {},
   "outputs": [],
   "source": [
    "from sklearn import preprocessing\n",
    "le = preprocessing.LabelEncoder()\n",
    "df['GENDER'] = le.fit_transform(df['GENDER'])"
   ]
  },
  {
   "cell_type": "code",
   "execution_count": 6,
   "metadata": {},
   "outputs": [
    {
     "name": "stdout",
     "output_type": "stream",
     "text": [
      "     GENDER  AGE  SMOKING  YELLOW_FINGERS  ANXIETY  PEER_PRESSURE  \\\n",
      "0         1   69        0               1        1              0   \n",
      "1         1   74        1               0        0              0   \n",
      "2         0   59        0               0        0              1   \n",
      "3         1   63        1               1        1              0   \n",
      "4         0   63        0               1        0              0   \n",
      "..      ...  ...      ...             ...      ...            ...   \n",
      "304       0   56        0               0        0              1   \n",
      "305       1   70        1               0        0              0   \n",
      "306       1   58        1               0        0              0   \n",
      "307       1   67        1               0        1              0   \n",
      "308       1   62        0               0        0              1   \n",
      "\n",
      "     CHRONIC DISEASE  FATIGUE   ALLERGY   WHEEZING  ALCOHOL CONSUMING  \\\n",
      "0                  0         1         0         1                  1   \n",
      "1                  1         1         1         0                  0   \n",
      "2                  0         1         0         1                  0   \n",
      "3                  0         0         0         0                  1   \n",
      "4                  0         0         0         1                  0   \n",
      "..               ...       ...       ...       ...                ...   \n",
      "304                1         1         0         0                  1   \n",
      "305                0         1         1         1                  1   \n",
      "306                0         0         1         1                  1   \n",
      "307                0         1         1         0                  1   \n",
      "308                0         1         1         1                  1   \n",
      "\n",
      "     COUGHING  SHORTNESS OF BREATH  SWALLOWING DIFFICULTY  CHEST PAIN  \\\n",
      "0           1                    1                      1           1   \n",
      "1           0                    1                      1           1   \n",
      "2           1                    1                      0           1   \n",
      "3           0                    0                      1           1   \n",
      "4           1                    1                      0           0   \n",
      "..        ...                  ...                    ...         ...   \n",
      "304         1                    1                      1           0   \n",
      "305         1                    1                      0           1   \n",
      "306         1                    0                      0           1   \n",
      "307         1                    1                      0           1   \n",
      "308         0                    0                      1           0   \n",
      "\n",
      "     LUNG_CANCER  \n",
      "0              1  \n",
      "1              1  \n",
      "2              0  \n",
      "3              0  \n",
      "4              0  \n",
      "..           ...  \n",
      "304            1  \n",
      "305            1  \n",
      "306            1  \n",
      "307            1  \n",
      "308            1  \n",
      "\n",
      "[309 rows x 16 columns]\n"
     ]
    }
   ],
   "source": [
    "df['SMOKING'] = le.fit_transform(df['SMOKING'])\n",
    "df['YELLOW_FINGERS'] = le.fit_transform(df['YELLOW_FINGERS'])\n",
    "df['ANXIETY'] = le.fit_transform(df['ANXIETY'])\n",
    "df['PEER_PRESSURE'] = le.fit_transform(df['PEER_PRESSURE'])\n",
    "df['CHRONIC DISEASE'] = le.fit_transform(df['CHRONIC DISEASE'])\n",
    "df['FATIGUE '] = le.fit_transform(df['FATIGUE '])\n",
    "df['ALLERGY '] = le.fit_transform(df['ALLERGY '])\n",
    "df['WHEEZING'] = le.fit_transform(df['WHEEZING'])\n",
    "df['ALCOHOL CONSUMING'] = le.fit_transform(df['ALCOHOL CONSUMING'])\n",
    "df['COUGHING'] = le.fit_transform(df['COUGHING'])\n",
    "df['SHORTNESS OF BREATH'] = le.fit_transform(df['SHORTNESS OF BREATH'])\n",
    "df['SWALLOWING DIFFICULTY'] = le.fit_transform(df['SWALLOWING DIFFICULTY'])\n",
    "df['CHEST PAIN'] = le.fit_transform(df['CHEST PAIN'])\n",
    "\n",
    "df['LUNG_CANCER'] = le.fit_transform(df['LUNG_CANCER'])\n",
    "print(df)   #1-male 0-female   1-yes 0-no"
   ]
  },
  {
   "cell_type": "code",
   "execution_count": 7,
   "metadata": {},
   "outputs": [
    {
     "name": "stdout",
     "output_type": "stream",
     "text": [
      "<class 'pandas.core.frame.DataFrame'>\n",
      "RangeIndex: 309 entries, 0 to 308\n",
      "Data columns (total 16 columns):\n",
      " #   Column                 Non-Null Count  Dtype\n",
      "---  ------                 --------------  -----\n",
      " 0   GENDER                 309 non-null    int32\n",
      " 1   AGE                    309 non-null    int64\n",
      " 2   SMOKING                309 non-null    int64\n",
      " 3   YELLOW_FINGERS         309 non-null    int64\n",
      " 4   ANXIETY                309 non-null    int64\n",
      " 5   PEER_PRESSURE          309 non-null    int64\n",
      " 6   CHRONIC DISEASE        309 non-null    int64\n",
      " 7   FATIGUE                309 non-null    int64\n",
      " 8   ALLERGY                309 non-null    int64\n",
      " 9   WHEEZING               309 non-null    int64\n",
      " 10  ALCOHOL CONSUMING      309 non-null    int64\n",
      " 11  COUGHING               309 non-null    int64\n",
      " 12  SHORTNESS OF BREATH    309 non-null    int64\n",
      " 13  SWALLOWING DIFFICULTY  309 non-null    int64\n",
      " 14  CHEST PAIN             309 non-null    int64\n",
      " 15  LUNG_CANCER            309 non-null    int32\n",
      "dtypes: int32(2), int64(14)\n",
      "memory usage: 36.3 KB\n",
      "None\n"
     ]
    }
   ],
   "source": [
    "print(df.info())"
   ]
  },
  {
   "cell_type": "code",
   "execution_count": 8,
   "metadata": {},
   "outputs": [
    {
     "name": "stdout",
     "output_type": "stream",
     "text": [
      "           GENDER         AGE     SMOKING  YELLOW_FINGERS     ANXIETY  \\\n",
      "count  309.000000  309.000000  309.000000      309.000000  309.000000   \n",
      "mean     0.524272   62.673139    0.563107        0.569579    0.498382   \n",
      "std      0.500221    8.210301    0.496806        0.495938    0.500808   \n",
      "min      0.000000   21.000000    0.000000        0.000000    0.000000   \n",
      "25%      0.000000   57.000000    0.000000        0.000000    0.000000   \n",
      "50%      1.000000   62.000000    1.000000        1.000000    0.000000   \n",
      "75%      1.000000   69.000000    1.000000        1.000000    1.000000   \n",
      "max      1.000000   87.000000    1.000000        1.000000    1.000000   \n",
      "\n",
      "       PEER_PRESSURE  CHRONIC DISEASE    FATIGUE     ALLERGY     WHEEZING  \\\n",
      "count     309.000000       309.000000  309.000000  309.000000  309.000000   \n",
      "mean        0.501618         0.504854    0.673139    0.556634    0.556634   \n",
      "std         0.500808         0.500787    0.469827    0.497588    0.497588   \n",
      "min         0.000000         0.000000    0.000000    0.000000    0.000000   \n",
      "25%         0.000000         0.000000    0.000000    0.000000    0.000000   \n",
      "50%         1.000000         1.000000    1.000000    1.000000    1.000000   \n",
      "75%         1.000000         1.000000    1.000000    1.000000    1.000000   \n",
      "max         1.000000         1.000000    1.000000    1.000000    1.000000   \n",
      "\n",
      "       ALCOHOL CONSUMING    COUGHING  SHORTNESS OF BREATH  \\\n",
      "count         309.000000  309.000000           309.000000   \n",
      "mean            0.556634    0.579288             0.640777   \n",
      "std             0.497588    0.494474             0.480551   \n",
      "min             0.000000    0.000000             0.000000   \n",
      "25%             0.000000    0.000000             0.000000   \n",
      "50%             1.000000    1.000000             1.000000   \n",
      "75%             1.000000    1.000000             1.000000   \n",
      "max             1.000000    1.000000             1.000000   \n",
      "\n",
      "       SWALLOWING DIFFICULTY  CHEST PAIN  LUNG_CANCER  \n",
      "count             309.000000  309.000000   309.000000  \n",
      "mean                0.469256    0.556634     0.873786  \n",
      "std                 0.499863    0.497588     0.332629  \n",
      "min                 0.000000    0.000000     0.000000  \n",
      "25%                 0.000000    0.000000     1.000000  \n",
      "50%                 0.000000    1.000000     1.000000  \n",
      "75%                 1.000000    1.000000     1.000000  \n",
      "max                 1.000000    1.000000     1.000000  \n"
     ]
    }
   ],
   "source": [
    "print(df.describe())"
   ]
  },
  {
   "cell_type": "markdown",
   "metadata": {},
   "source": [
    "# Regression Analysis"
   ]
  },
  {
   "cell_type": "markdown",
   "metadata": {},
   "source": [
    "Logistic Regression using factors: Smoking, Anxiety, Chronic Disease, Allergy, Alcohol Consuming"
   ]
  },
  {
   "cell_type": "code",
   "execution_count": 9,
   "metadata": {},
   "outputs": [
    {
     "name": "stdout",
     "output_type": "stream",
     "text": [
      "[[0.28225306 1.10015778 0.88571952 1.81623849 1.60344613]]\n",
      "29     0\n",
      "102    1\n",
      "271    1\n",
      "10     1\n",
      "268    1\n",
      "      ..\n",
      "75     1\n",
      "149    1\n",
      "23     1\n",
      "199    1\n",
      "285    1\n",
      "Name: LUNG_CANCER, Length: 62, dtype: int32\n",
      "              precision    recall  f1-score   support\n",
      "\n",
      "           0       0.33      0.14      0.20         7\n",
      "           1       0.90      0.96      0.93        55\n",
      "\n",
      "    accuracy                           0.87        62\n",
      "   macro avg       0.62      0.55      0.56        62\n",
      "weighted avg       0.83      0.87      0.85        62\n",
      "\n"
     ]
    }
   ],
   "source": [
    "from sklearn.model_selection import train_test_split\n",
    "from sklearn.linear_model import LogisticRegression\n",
    "from sklearn.metrics import classification_report, accuracy_score, f1_score\n",
    "\n",
    "# Logistic regression model with 'SMOKING','ANXIETY','CHRONIC DISEASE', 'ALLERGY ', 'ALCOHOL CONSUMING' factors\n",
    "\n",
    "X = df[['SMOKING', 'ANXIETY', 'CHRONIC DISEASE', 'ALLERGY ', 'ALCOHOL CONSUMING']]\n",
    "Y = df['LUNG_CANCER']\n",
    "\n",
    "x_train, x_test, y_train, y_test = train_test_split(X, Y, test_size= 0.2)\n",
    "lr_model = LogisticRegression()\n",
    "lr_model.fit(x_train, y_train)\n",
    "print(lr_model.coef_)\n",
    "\n",
    "#print(x_test)\n",
    "y_test_predict = lr_model.predict(x_test)\n",
    "print(y_test)\n",
    "\n",
    "lr_cr = classification_report(y_test, y_test_predict)\n",
    "print(lr_cr)"
   ]
  },
  {
   "cell_type": "markdown",
   "metadata": {},
   "source": [
    "Logistic Regression using factors: Shortness of Breath, Wheezing, Coughing, Allergy, Yellow Fingers"
   ]
  },
  {
   "cell_type": "code",
   "execution_count": 10,
   "metadata": {},
   "outputs": [
    {
     "name": "stdout",
     "output_type": "stream",
     "text": [
      "[[0.20308263 0.93388478 0.84175146 2.31087916 1.27787055]]\n",
      "280    0\n",
      "278    1\n",
      "22     0\n",
      "135    1\n",
      "243    1\n",
      "      ..\n",
      "291    1\n",
      "264    1\n",
      "102    1\n",
      "134    1\n",
      "234    1\n",
      "Name: LUNG_CANCER, Length: 62, dtype: int32\n",
      "              precision    recall  f1-score   support\n",
      "\n",
      "           0       1.00      0.17      0.29        12\n",
      "           1       0.83      1.00      0.91        50\n",
      "\n",
      "    accuracy                           0.84        62\n",
      "   macro avg       0.92      0.58      0.60        62\n",
      "weighted avg       0.87      0.84      0.79        62\n",
      "\n"
     ]
    }
   ],
   "source": [
    "# Logistic regression model with 'SHORTNESS OF BREATH','WHEEZING','COUGHING','ALLERGY ','YELLOW_FINGERS' factors\n",
    "\n",
    "X = df[['SHORTNESS OF BREATH','WHEEZING','COUGHING','ALLERGY ','YELLOW_FINGERS']]\n",
    "Y = df['LUNG_CANCER']\n",
    "\n",
    "x_train, x_test, y_train, y_test = train_test_split(X, Y, test_size= 0.2)\n",
    "lr_model = LogisticRegression()\n",
    "lr_model.fit(x_train, y_train)\n",
    "print(lr_model.coef_)\n",
    "\n",
    "#print(x_test)\n",
    "y_test_predict = lr_model.predict(x_test)\n",
    "print(y_test)\n",
    "\n",
    "lr_cr = classification_report(y_test, y_test_predict)\n",
    "print(lr_cr)"
   ]
  },
  {
   "cell_type": "markdown",
   "metadata": {},
   "source": [
    "Logistic Regression using all given factors"
   ]
  },
  {
   "cell_type": "code",
   "execution_count": 11,
   "metadata": {},
   "outputs": [
    {
     "name": "stdout",
     "output_type": "stream",
     "text": [
      "[[-0.56315952  0.05008217  0.75062101  0.75914019  0.51540798  0.51855953\n",
      "   1.14722508  1.44131886  1.21303177  0.57756588  1.19713896  0.96951071\n",
      "   0.23745131  1.71166129  0.58111666]]\n",
      "270    0\n",
      "78     1\n",
      "171    0\n",
      "12     0\n",
      "279    1\n",
      "      ..\n",
      "77     1\n",
      "25     1\n",
      "277    0\n",
      "89     1\n",
      "299    1\n",
      "Name: LUNG_CANCER, Length: 62, dtype: int32\n",
      "              precision    recall  f1-score   support\n",
      "\n",
      "           0       0.86      0.55      0.67        11\n",
      "           1       0.91      0.98      0.94        51\n",
      "\n",
      "    accuracy                           0.90        62\n",
      "   macro avg       0.88      0.76      0.81        62\n",
      "weighted avg       0.90      0.90      0.89        62\n",
      "\n"
     ]
    }
   ],
   "source": [
    "# Logistic regression model with all the factors\n",
    "\n",
    "temp_list = list(df.columns)\n",
    "temp_list.remove('LUNG_CANCER')\n",
    "X = df[temp_list]\n",
    "Y = df['LUNG_CANCER']\n",
    "\n",
    "x_train, x_test, y_train, y_test = train_test_split(X, Y, test_size=0.2)\n",
    "lr_model = LogisticRegression(max_iter=1000)\n",
    "\n",
    "lr_model.fit(x_train, y_train)\n",
    "print(lr_model.coef_)\n",
    "\n",
    "#print(x_test)\n",
    "y_test_predict = lr_model.predict(x_test)\n",
    "print(y_test)\n",
    "\n",
    "lr_cr = classification_report(y_test, y_test_predict)\n",
    "print(lr_cr)"
   ]
  },
  {
   "cell_type": "markdown",
   "metadata": {},
   "source": [
    "# Visualizations"
   ]
  },
  {
   "cell_type": "code",
   "execution_count": 12,
   "metadata": {},
   "outputs": [],
   "source": [
    "import matplotlib.pyplot as plt\n",
    "import plotly.express as px"
   ]
  },
  {
   "cell_type": "code",
   "execution_count": 22,
   "metadata": {},
   "outputs": [
    {
     "data": {
      "text/plain": [
       "<Axes: title={'center': 'Distribution of Age'}, ylabel='Density'>"
      ]
     },
     "execution_count": 22,
     "metadata": {},
     "output_type": "execute_result"
    },
    {
     "data": {
      "image/png": "[encoded data removed]",
      "text/plain": [
       "<Figure size 640x480 with 1 Axes>"
      ]
     },
     "metadata": {},
     "output_type": "display_data"
    }
   ],
   "source": [
    "df['AGE'].plot.kde(title='Distribution of Age')"
   ]
  },
  {
   "cell_type": "code",
   "execution_count": 29,
   "metadata": {},
   "outputs": [
    {
     "data": {
      "application/vnd.plotly.v1+json": {
       "config": {
        "plotlyServerURL": "https://plot.ly"
       },
       "data": [
        {
         "alignmentgroup": "True",
         "hovertemplate": "SMOKING=%{x}<br>LUNG_CANCER=%{y}<extra></extra>",
         "legendgroup": "",
         "marker": {
          "color": "#636efa",
          "pattern": {
           "shape": ""
          }
         },
         "name": "",
         "offsetgroup": "",
         "orientation": "v",
         "showlegend": false,
         "textposition": "auto",
         "type": "bar",
         "x": [
          0,
          1,
          0,
          1,
          0,
          0,
          1,
          1,
          1,
          1,
          1,
          0,
          1,
          1,
          1,
          0,
          1,
          1,
          1,
          0,
          1,
          0,
          1,
          1,
          1,
          0,
          1,
          0,
          1,
          0,
          1,
          1,
          1,
          1,
          0,
          1,
          0,
          0,
          1,
          1,
          1,
          0,
          0,
          1,
          1,
          1,
          1,
          1,
          0,
          0,
          0,
          1,
          1,
          1,
          0,
          0,
          0,
          0,
          0,
          1,
          0,
          0,
          0,
          0,
          0,
          1,
          0,
          1,
          1,
          1,
          1,
          1,
          0,
          1,
          1,
          1,
          0,
          1,
          1,
          1,
          0,
          1,
          1,
          0,
          0,
          0,
          0,
          0,
          1,
          1,
          0,
          0,
          1,
          0,
          1,
          0,
          1,
          1,
          0,
          1,
          1,
          0,
          1,
          1,
          1,
          0,
          1,
          1,
          0,
          0,
          0,
          1,
          0,
          1,
          0,
          0,
          1,
          1,
          1,
          0,
          1,
          0,
          1,
          1,
          1,
          0,
          1,
          1,
          1,
          0,
          1,
          0,
          1,
          1,
          1,
          0,
          1,
          0,
          1,
          0,
          1,
          1,
          1,
          1,
          0,
          1,
          0,
          0,
          1,
          1,
          1,
          0,
          0,
          1,
          1,
          1,
          1,
          1,
          0,
          0,
          0,
          1,
          1,
          1,
          0,
          0,
          0,
          0,
          0,
          1,
          0,
          0,
          0,
          0,
          0,
          1,
          0,
          1,
          1,
          1,
          1,
          1,
          0,
          1,
          1,
          1,
          0,
          1,
          1,
          1,
          0,
          1,
          1,
          0,
          0,
          0,
          0,
          0,
          1,
          1,
          0,
          0,
          1,
          0,
          1,
          0,
          1,
          1,
          0,
          1,
          1,
          0,
          1,
          1,
          1,
          0,
          1,
          1,
          0,
          0,
          0,
          0,
          0,
          1,
          1,
          1,
          0,
          0,
          0,
          0,
          0,
          1,
          0,
          0,
          0,
          0,
          0,
          1,
          0,
          0,
          1,
          1,
          1,
          0,
          1,
          0,
          1,
          0,
          1,
          1,
          1,
          1,
          0,
          1,
          0,
          0,
          1,
          1,
          1,
          0,
          0,
          1,
          0,
          0,
          1,
          1,
          1,
          1,
          1,
          0,
          1,
          1,
          1,
          0,
          1,
          1,
          1,
          0,
          1,
          0,
          1,
          1,
          0,
          0,
          1,
          1,
          0,
          1,
          0,
          1,
          1,
          1,
          0,
          1,
          0,
          1,
          0,
          1,
          1,
          1,
          1,
          0,
          1,
          0,
          0,
          1,
          1,
          1,
          0
         ],
         "xaxis": "x",
         "y": [
          1,
          1,
          0,
          0,
          0,
          1,
          1,
          1,
          0,
          1,
          1,
          1,
          0,
          1,
          0,
          1,
          1,
          1,
          1,
          0,
          1,
          1,
          0,
          1,
          1,
          1,
          1,
          0,
          1,
          0,
          0,
          1,
          0,
          1,
          0,
          1,
          1,
          0,
          1,
          1,
          1,
          1,
          1,
          1,
          1,
          1,
          1,
          1,
          1,
          0,
          1,
          1,
          1,
          1,
          1,
          1,
          1,
          1,
          1,
          1,
          1,
          0,
          1,
          1,
          1,
          1,
          1,
          1,
          1,
          1,
          1,
          1,
          1,
          1,
          1,
          1,
          1,
          1,
          1,
          1,
          0,
          1,
          1,
          1,
          1,
          1,
          1,
          1,
          1,
          1,
          1,
          1,
          1,
          1,
          1,
          1,
          1,
          1,
          1,
          1,
          1,
          1,
          1,
          1,
          1,
          1,
          1,
          1,
          1,
          1,
          1,
          1,
          1,
          1,
          1,
          1,
          1,
          1,
          1,
          1,
          1,
          1,
          1,
          1,
          1,
          1,
          1,
          1,
          1,
          0,
          1,
          1,
          1,
          1,
          1,
          1,
          1,
          1,
          1,
          1,
          1,
          1,
          1,
          1,
          1,
          1,
          1,
          1,
          1,
          1,
          1,
          1,
          1,
          0,
          0,
          1,
          0,
          0,
          1,
          0,
          1,
          1,
          1,
          1,
          1,
          1,
          1,
          1,
          1,
          1,
          1,
          0,
          1,
          1,
          1,
          1,
          1,
          1,
          1,
          1,
          1,
          1,
          1,
          0,
          1,
          1,
          1,
          1,
          1,
          1,
          1,
          1,
          1,
          1,
          1,
          1,
          1,
          1,
          1,
          1,
          1,
          1,
          1,
          1,
          1,
          1,
          1,
          0,
          1,
          1,
          1,
          1,
          1,
          1,
          1,
          0,
          1,
          1,
          1,
          1,
          1,
          0,
          1,
          1,
          1,
          1,
          1,
          1,
          1,
          1,
          1,
          1,
          1,
          1,
          1,
          1,
          1,
          1,
          1,
          1,
          1,
          1,
          1,
          1,
          1,
          0,
          1,
          1,
          1,
          0,
          1,
          1,
          1,
          1,
          1,
          1,
          1,
          1,
          1,
          1,
          1,
          1,
          0,
          1,
          1,
          1,
          0,
          1,
          1,
          1,
          0,
          1,
          0,
          1,
          1,
          1,
          1,
          0,
          1,
          1,
          0,
          0,
          0,
          1,
          1,
          1,
          0,
          1,
          1,
          1,
          1,
          1,
          1,
          1,
          1,
          1,
          1,
          1,
          1,
          1,
          1,
          1,
          1,
          1,
          1,
          1,
          1,
          1,
          1
         ],
         "yaxis": "y"
        }
       ],
       "layout": {
        "barmode": "relative",
        "legend": {
         "tracegroupgap": 0
        },
        "margin": {
         "t": 60
        },
        "template": {
         "data": {
          "bar": [
           {
            "error_x": {
             "color": "#2a3f5f"
            },
            "error_y": {
             "color": "#2a3f5f"
            },
            "marker": {
             "line": {
              "color": "#E5ECF6",
              "width": 0.5
             },
             "pattern": {
              "fillmode": "overlay",
              "size": 10,
              "solidity": 0.2
             }
            },
            "type": "bar"
           }
          ],
          "barpolar": [
           {
            "marker": {
             "line": {
              "color": "#E5ECF6",
              "width": 0.5
             },
             "pattern": {
              "fillmode": "overlay",
              "size": 10,
              "solidity": 0.2
             }
            },
            "type": "barpolar"
           }
          ],
          "carpet": [
           {
            "aaxis": {
             "endlinecolor": "#2a3f5f",
             "gridcolor": "white",
             "linecolor": "white",
             "minorgridcolor": "white",
             "startlinecolor": "#2a3f5f"
            },
            "baxis": {
             "endlinecolor": "#2a3f5f",
             "gridcolor": "white",
             "linecolor": "white",
             "minorgridcolor": "white",
             "startlinecolor": "#2a3f5f"
            },
            "type": "carpet"
           }
          ],
          "choropleth": [
           {
            "colorbar": {
             "outlinewidth": 0,
             "ticks": ""
            },
            "type": "choropleth"
           }
          ],
          "contour": [
           {
            "colorbar": {
             "outlinewidth": 0,
             "ticks": ""
            },
            "colorscale": [
             [
              0,
              "#0d0887"
             ],
             [
              0.1111111111111111,
              "#46039f"
             ],
             [
              0.2222222222222222,
              "#7201a8"
             ],
             [
              0.3333333333333333,
              "#9c179e"
             ],
             [
              0.4444444444444444,
              "#bd3786"
             ],
             [
              0.5555555555555556,
              "#d8576b"
             ],
             [
              0.6666666666666666,
              "#ed7953"
             ],
             [
              0.7777777777777778,
              "#fb9f3a"
             ],
             [
              0.8888888888888888,
              "#fdca26"
             ],
             [
              1,
              "#f0f921"
             ]
            ],
            "type": "contour"
           }
          ],
          "contourcarpet": [
           {
            "colorbar": {
             "outlinewidth": 0,
             "ticks": ""
            },
            "type": "contourcarpet"
           }
          ],
          "heatmap": [
           {
            "colorbar": {
             "outlinewidth": 0,
             "ticks": ""
            },
            "colorscale": [
             [
              0,
              "#0d0887"
             ],
             [
              0.1111111111111111,
              "#46039f"
             ],
             [
              0.2222222222222222,
              "#7201a8"
             ],
             [
              0.3333333333333333,
              "#9c179e"
             ],
             [
              0.4444444444444444,
              "#bd3786"
             ],
             [
              0.5555555555555556,
              "#d8576b"
             ],
             [
              0.6666666666666666,
              "#ed7953"
             ],
             [
              0.7777777777777778,
              "#fb9f3a"
             ],
             [
              0.8888888888888888,
              "#fdca26"
             ],
             [
              1,
              "#f0f921"
             ]
            ],
            "type": "heatmap"
           }
          ],
          "heatmapgl": [
           {
            "colorbar": {
             "outlinewidth": 0,
             "ticks": ""
            },
            "colorscale": [
             [
              0,
              "#0d0887"
             ],
             [
              0.1111111111111111,
              "#46039f"
             ],
             [
              0.2222222222222222,
              "#7201a8"
             ],
             [
              0.3333333333333333,
              "#9c179e"
             ],
             [
              0.4444444444444444,
              "#bd3786"
             ],
             [
              0.5555555555555556,
              "#d8576b"
             ],
             [
              0.6666666666666666,
              "#ed7953"
             ],
             [
              0.7777777777777778,
              "#fb9f3a"
             ],
             [
              0.8888888888888888,
              "#fdca26"
             ],
             [
              1,
              "#f0f921"
             ]
            ],
            "type": "heatmapgl"
           }
          ],
          "histogram": [
           {
            "marker": {
             "pattern": {
              "fillmode": "overlay",
              "size": 10,
              "solidity": 0.2
             }
            },
            "type": "histogram"
           }
          ],
          "histogram2d": [
           {
            "colorbar": {
             "outlinewidth": 0,
             "ticks": ""
            },
            "colorscale": [
             [
              0,
              "#0d0887"
             ],
             [
              0.1111111111111111,
              "#46039f"
             ],
             [
              0.2222222222222222,
              "#7201a8"
             ],
             [
              0.3333333333333333,
              "#9c179e"
             ],
             [
              0.4444444444444444,
              "#bd3786"
             ],
             [
              0.5555555555555556,
              "#d8576b"
             ],
             [
              0.6666666666666666,
              "#ed7953"
             ],
             [
              0.7777777777777778,
              "#fb9f3a"
             ],
             [
              0.8888888888888888,
              "#fdca26"
             ],
             [
              1,
              "#f0f921"
             ]
            ],
            "type": "histogram2d"
           }
          ],
          "histogram2dcontour": [
           {
            "colorbar": {
             "outlinewidth": 0,
             "ticks": ""
            },
            "colorscale": [
             [
              0,
              "#0d0887"
             ],
             [
              0.1111111111111111,
              "#46039f"
             ],
             [
              0.2222222222222222,
              "#7201a8"
             ],
             [
              0.3333333333333333,
              "#9c179e"
             ],
             [
              0.4444444444444444,
              "#bd3786"
             ],
             [
              0.5555555555555556,
              "#d8576b"
             ],
             [
              0.6666666666666666,
              "#ed7953"
             ],
             [
              0.7777777777777778,
              "#fb9f3a"
             ],
             [
              0.8888888888888888,
              "#fdca26"
             ],
             [
              1,
              "#f0f921"
             ]
            ],
            "type": "histogram2dcontour"
           }
          ],
          "mesh3d": [
           {
            "colorbar": {
             "outlinewidth": 0,
             "ticks": ""
            },
            "type": "mesh3d"
           }
          ],
          "parcoords": [
           {
            "line": {
             "colorbar": {
              "outlinewidth": 0,
              "ticks": ""
             }
            },
            "type": "parcoords"
           }
          ],
          "pie": [
           {
            "automargin": true,
            "type": "pie"
           }
          ],
          "scatter": [
           {
            "fillpattern": {
             "fillmode": "overlay",
             "size": 10,
             "solidity": 0.2
            },
            "type": "scatter"
           }
          ],
          "scatter3d": [
           {
            "line": {
             "colorbar": {
              "outlinewidth": 0,
              "ticks": ""
             }
            },
            "marker": {
             "colorbar": {
              "outlinewidth": 0,
              "ticks": ""
             }
            },
            "type": "scatter3d"
           }
          ],
          "scattercarpet": [
           {
            "marker": {
             "colorbar": {
              "outlinewidth": 0,
              "ticks": ""
             }
            },
            "type": "scattercarpet"
           }
          ],
          "scattergeo": [
           {
            "marker": {
             "colorbar": {
              "outlinewidth": 0,
              "ticks": ""
             }
            },
            "type": "scattergeo"
           }
          ],
          "scattergl": [
           {
            "marker": {
             "colorbar": {
              "outlinewidth": 0,
              "ticks": ""
             }
            },
            "type": "scattergl"
           }
          ],
          "scattermapbox": [
           {
            "marker": {
             "colorbar": {
              "outlinewidth": 0,
              "ticks": ""
             }
            },
            "type": "scattermapbox"
           }
          ],
          "scatterpolar": [
           {
            "marker": {
             "colorbar": {
              "outlinewidth": 0,
              "ticks": ""
             }
            },
            "type": "scatterpolar"
           }
          ],
          "scatterpolargl": [
           {
            "marker": {
             "colorbar": {
              "outlinewidth": 0,
              "ticks": ""
             }
            },
            "type": "scatterpolargl"
           }
          ],
          "scatterternary": [
           {
            "marker": {
             "colorbar": {
              "outlinewidth": 0,
              "ticks": ""
             }
            },
            "type": "scatterternary"
           }
          ],
          "surface": [
           {
            "colorbar": {
             "outlinewidth": 0,
             "ticks": ""
            },
            "colorscale": [
             [
              0,
              "#0d0887"
             ],
             [
              0.1111111111111111,
              "#46039f"
             ],
             [
              0.2222222222222222,
              "#7201a8"
             ],
             [
              0.3333333333333333,
              "#9c179e"
             ],
             [
              0.4444444444444444,
              "#bd3786"
             ],
             [
              0.5555555555555556,
              "#d8576b"
             ],
             [
              0.6666666666666666,
              "#ed7953"
             ],
             [
              0.7777777777777778,
              "#fb9f3a"
             ],
             [
              0.8888888888888888,
              "#fdca26"
             ],
             [
              1,
              "#f0f921"
             ]
            ],
            "type": "surface"
           }
          ],
          "table": [
           {
            "cells": {
             "fill": {
              "color": "#EBF0F8"
             },
             "line": {
              "color": "white"
             }
            },
            "header": {
             "fill": {
              "color": "#C8D4E3"
             },
             "line": {
              "color": "white"
             }
            },
            "type": "table"
           }
          ]
         },
         "layout": {
          "annotationdefaults": {
           "arrowcolor": "#2a3f5f",
           "arrowhead": 0,
           "arrowwidth": 1
          },
          "autotypenumbers": "strict",
          "coloraxis": {
           "colorbar": {
            "outlinewidth": 0,
            "ticks": ""
           }
          },
          "colorscale": {
           "diverging": [
            [
             0,
             "#8e0152"
            ],
            [
             0.1,
             "#c51b7d"
            ],
            [
             0.2,
             "#de77ae"
            ],
            [
             0.3,
             "#f1b6da"
            ],
            [
             0.4,
             "#fde0ef"
            ],
            [
             0.5,
             "#f7f7f7"
            ],
            [
             0.6,
             "#e6f5d0"
            ],
            [
             0.7,
             "#b8e186"
            ],
            [
             0.8,
             "#7fbc41"
            ],
            [
             0.9,
             "#4d9221"
            ],
            [
             1,
             "#276419"
            ]
           ],
           "sequential": [
            [
             0,
             "#0d0887"
            ],
            [
             0.1111111111111111,
             "#46039f"
            ],
            [
             0.2222222222222222,
             "#7201a8"
            ],
            [
             0.3333333333333333,
             "#9c179e"
            ],
            [
             0.4444444444444444,
             "#bd3786"
            ],
            [
             0.5555555555555556,
             "#d8576b"
            ],
            [
             0.6666666666666666,
             "#ed7953"
            ],
            [
             0.7777777777777778,
             "#fb9f3a"
            ],
            [
             0.8888888888888888,
             "#fdca26"
            ],
            [
             1,
             "#f0f921"
            ]
           ],
           "sequentialminus": [
            [
             0,
             "#0d0887"
            ],
            [
             0.1111111111111111,
             "#46039f"
            ],
            [
             0.2222222222222222,
             "#7201a8"
            ],
            [
             0.3333333333333333,
             "#9c179e"
            ],
            [
             0.4444444444444444,
             "#bd3786"
            ],
            [
             0.5555555555555556,
             "#d8576b"
            ],
            [
             0.6666666666666666,
             "#ed7953"
            ],
            [
             0.7777777777777778,
             "#fb9f3a"
            ],
            [
             0.8888888888888888,
             "#fdca26"
            ],
            [
             1,
             "#f0f921"
            ]
           ]
          },
          "colorway": [
           "#636efa",
           "#EF553B",
           "#00cc96",
           "#ab63fa",
           "#FFA15A",
           "#19d3f3",
           "#FF6692",
           "#B6E880",
           "#FF97FF",
           "#FECB52"
          ],
          "font": {
           "color": "#2a3f5f"
          },
          "geo": {
           "bgcolor": "white",
           "lakecolor": "white",
           "landcolor": "#E5ECF6",
           "showlakes": true,
           "showland": true,
           "subunitcolor": "white"
          },
          "hoverlabel": {
           "align": "left"
          },
          "hovermode": "closest",
          "mapbox": {
           "style": "light"
          },
          "paper_bgcolor": "white",
          "plot_bgcolor": "#E5ECF6",
          "polar": {
           "angularaxis": {
            "gridcolor": "white",
            "linecolor": "white",
            "ticks": ""
           },
           "bgcolor": "#E5ECF6",
           "radialaxis": {
            "gridcolor": "white",
            "linecolor": "white",
            "ticks": ""
           }
          },
          "scene": {
           "xaxis": {
            "backgroundcolor": "#E5ECF6",
            "gridcolor": "white",
            "gridwidth": 2,
            "linecolor": "white",
            "showbackground": true,
            "ticks": "",
            "zerolinecolor": "white"
           },
           "yaxis": {
            "backgroundcolor": "#E5ECF6",
            "gridcolor": "white",
            "gridwidth": 2,
            "linecolor": "white",
            "showbackground": true,
            "ticks": "",
            "zerolinecolor": "white"
           },
           "zaxis": {
            "backgroundcolor": "#E5ECF6",
            "gridcolor": "white",
            "gridwidth": 2,
            "linecolor": "white",
            "showbackground": true,
            "ticks": "",
            "zerolinecolor": "white"
           }
          },
          "shapedefaults": {
           "line": {
            "color": "#2a3f5f"
           }
          },
          "ternary": {
           "aaxis": {
            "gridcolor": "white",
            "linecolor": "white",
            "ticks": ""
           },
           "baxis": {
            "gridcolor": "white",
            "linecolor": "white",
            "ticks": ""
           },
           "bgcolor": "#E5ECF6",
           "caxis": {
            "gridcolor": "white",
            "linecolor": "white",
            "ticks": ""
           }
          },
          "title": {
           "x": 0.05
          },
          "xaxis": {
           "automargin": true,
           "gridcolor": "white",
           "linecolor": "white",
           "ticks": "",
           "title": {
            "standoff": 15
           },
           "zerolinecolor": "white",
           "zerolinewidth": 2
          },
          "yaxis": {
           "automargin": true,
           "gridcolor": "white",
           "linecolor": "white",
           "ticks": "",
           "title": {
            "standoff": 15
           },
           "zerolinecolor": "white",
           "zerolinewidth": 2
          }
         }
        },
        "xaxis": {
         "anchor": "y",
         "domain": [
          0,
          1
         ],
         "title": {
          "text": "SMOKING"
         }
        },
        "yaxis": {
         "anchor": "x",
         "domain": [
          0,
          1
         ],
         "title": {
          "text": "LUNG_CANCER"
         }
        }
       }
      }
     },
     "metadata": {},
     "output_type": "display_data"
    }
   ],
   "source": [
    "fig = px.bar(df, x='SMOKING', y='LUNG_CANCER')\n",
    "fig.show()"
   ]
  }
 ],
 "metadata": {
  "kernelspec": {
   "display_name": "base",
   "language": "python",
   "name": "python3"
  },
  "language_info": {
   "codemirror_mode": {
    "name": "ipython",
    "version": 3
   },
   "file_extension": ".py",
   "mimetype": "text/x-python",
   "name": "python",
   "nbconvert_exporter": "python",
   "pygments_lexer": "ipython3",
   "version": "3.11.8"
  }
 },
 "nbformat": 4,
 "nbformat_minor": 2
}
