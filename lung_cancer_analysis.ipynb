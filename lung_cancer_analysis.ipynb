{
 "cells": [
  {
   "cell_type": "code",
   "execution_count": 3,
   "metadata": {
    "tags": []
   },
   "outputs": [],
   "source": [
    "import pandas\n",
    "\n",
    "df = pandas.read_csv('survey lung cancer.csv')\n",
    "print(df)"
   ]
  },
  {
   "cell_type": "code",
   "execution_count": 5,
   "metadata": {},
   "outputs": [
    {
     "name": "stdout",
     "output_type": "stream",
     "text": [
      "(309, 16)\n",
      "33\n",
      "    GENDER  AGE  SMOKING  YELLOW_FINGERS  ANXIETY  PEER_PRESSURE  \\\n",
      "0        M   69        1               2        2              1   \n",
      "1        M   74        2               1        1              1   \n",
      "2        F   59        1               1        1              2   \n",
      "3        M   63        2               2        2              1   \n",
      "4        F   63        1               2        1              1   \n",
      "..     ...  ...      ...             ...      ...            ...   \n",
      "279      F   59        1               2        2              2   \n",
      "280      F   59        2               1        1              1   \n",
      "281      M   55        2               1        1              1   \n",
      "282      M   46        1               2        2              1   \n",
      "283      M   60        1               2        2              1   \n",
      "\n",
      "     CHRONIC DISEASE  FATIGUE   ALLERGY   WHEEZING  ALCOHOL CONSUMING  \\\n",
      "0                  1         2         1         2                  2   \n",
      "1                  2         2         2         1                  1   \n",
      "2                  1         2         1         2                  1   \n",
      "3                  1         1         1         1                  2   \n",
      "4                  1         1         1         2                  1   \n",
      "..               ...       ...       ...       ...                ...   \n",
      "279                1         1         2         2                  1   \n",
      "280                2         2         2         1                  1   \n",
      "281                1         2         2         1                  1   \n",
      "282                1         1         1         1                  1   \n",
      "283                1         2         1         2                  2   \n",
      "\n",
      "     COUGHING  SHORTNESS OF BREATH  SWALLOWING DIFFICULTY  CHEST PAIN  \\\n",
      "0           2                    2                      2           2   \n",
      "1           1                    2                      2           2   \n",
      "2           2                    2                      1           2   \n",
      "3           1                    1                      2           2   \n",
      "4           2                    2                      1           1   \n",
      "..        ...                  ...                    ...         ...   \n",
      "279         2                    1                      2           1   \n",
      "280         1                    2                      1           1   \n",
      "281         1                    2                      1           2   \n",
      "282         1                    1                      2           2   \n",
      "283         2                    2                      2           2   \n",
      "\n",
      "    LUNG_CANCER  \n",
      "0           YES  \n",
      "1           YES  \n",
      "2            NO  \n",
      "3            NO  \n",
      "4            NO  \n",
      "..          ...  \n",
      "279         YES  \n",
      "280          NO  \n",
      "281          NO  \n",
      "282          NO  \n",
      "283         YES  \n",
      "\n",
      "[276 rows x 16 columns]\n",
      "(276, 16)\n"
     ]
    }
   ],
   "source": [
    "print(df.shape)\n",
    "print(df.duplicated().sum())\n",
    "df=df.drop_duplicates()\n",
    "print(df)\n",
    "print(df.shape)"
   ]
  },
  {
   "cell_type": "code",
   "execution_count": 6,
   "metadata": {},
   "outputs": [
    {
     "name": "stdout",
     "output_type": "stream",
     "text": [
      "GENDER                   0\n",
      "AGE                      0\n",
      "SMOKING                  0\n",
      "YELLOW_FINGERS           0\n",
      "ANXIETY                  0\n",
      "PEER_PRESSURE            0\n",
      "CHRONIC DISEASE          0\n",
      "FATIGUE                  0\n",
      "ALLERGY                  0\n",
      "WHEEZING                 0\n",
      "ALCOHOL CONSUMING        0\n",
      "COUGHING                 0\n",
      "SHORTNESS OF BREATH      0\n",
      "SWALLOWING DIFFICULTY    0\n",
      "CHEST PAIN               0\n",
      "LUNG_CANCER              0\n",
      "dtype: int64\n"
     ]
    }
   ],
   "source": [
    "print(df.isnull().sum())"
   ]
  },
  {
   "cell_type": "code",
   "execution_count": 10,
   "metadata": {},
   "outputs": [
    {
     "name": "stdout",
     "output_type": "stream",
     "text": [
      "     GENDER  AGE  SMOKING  YELLOW_FINGERS  ANXIETY  PEER_PRESSURE  \\\n",
      "0         1   69        0               1        1              0   \n",
      "1         1   74        1               0        0              0   \n",
      "2         0   59        0               0        0              1   \n",
      "3         1   63        1               1        1              0   \n",
      "4         0   63        0               1        0              0   \n",
      "..      ...  ...      ...             ...      ...            ...   \n",
      "279       0   59        0               1        1              1   \n",
      "280       0   59        1               0        0              0   \n",
      "281       1   55        1               0        0              0   \n",
      "282       1   46        0               1        1              0   \n",
      "283       1   60        0               1        1              0   \n",
      "\n",
      "     CHRONIC DISEASE  FATIGUE   ALLERGY   WHEEZING  ALCOHOL CONSUMING  \\\n",
      "0                  0         1         0         1                  1   \n",
      "1                  1         1         1         0                  0   \n",
      "2                  0         1         0         1                  0   \n",
      "3                  0         0         0         0                  1   \n",
      "4                  0         0         0         1                  0   \n",
      "..               ...       ...       ...       ...                ...   \n",
      "279                0         0         1         1                  0   \n",
      "280                1         1         1         0                  0   \n",
      "281                0         1         1         0                  0   \n",
      "282                0         0         0         0                  0   \n",
      "283                0         1         0         1                  1   \n",
      "\n",
      "     COUGHING  SHORTNESS OF BREATH  SWALLOWING DIFFICULTY  CHEST PAIN  \\\n",
      "0           1                    1                      1           1   \n",
      "1           0                    1                      1           1   \n",
      "2           1                    1                      0           1   \n",
      "3           0                    0                      1           1   \n",
      "4           1                    1                      0           0   \n",
      "..        ...                  ...                    ...         ...   \n",
      "279         1                    0                      1           0   \n",
      "280         0                    1                      0           0   \n",
      "281         0                    1                      0           1   \n",
      "282         0                    0                      1           1   \n",
      "283         1                    1                      1           1   \n",
      "\n",
      "     LUNG_CANCER  \n",
      "0              1  \n",
      "1              1  \n",
      "2              0  \n",
      "3              0  \n",
      "4              0  \n",
      "..           ...  \n",
      "279            1  \n",
      "280            0  \n",
      "281            0  \n",
      "282            0  \n",
      "283            1  \n",
      "\n",
      "[276 rows x 16 columns]\n"
     ]
    }
   ],
   "source": [
    "from sklearn import preprocessing\n",
    "le=preprocessing.LabelEncoder()\n",
    "df['GENDER']=le.fit_transform(df['GENDER'])\n",
    "df['LUNG_CANCER']=le.fit_transform(df['LUNG_CANCER'])\n",
    "df['SMOKING']=le.fit_transform(df['SMOKING'])\n",
    "df['YELLOW_FINGERS']=le.fit_transform(df['YELLOW_FINGERS'])\n",
    "df['ANXIETY']=le.fit_transform(df['ANXIETY'])\n",
    "df['PEER_PRESSURE']=le.fit_transform(df['PEER_PRESSURE'])\n",
    "df['CHRONIC DISEASE']=le.fit_transform(df['CHRONIC DISEASE'])\n",
    "df['FATIGUE ']=le.fit_transform(df['FATIGUE '])\n",
    "df['ALLERGY ']=le.fit_transform(df['ALLERGY '])\n",
    "df['WHEEZING']=le.fit_transform(df['WHEEZING'])\n",
    "df['ALCOHOL CONSUMING']=le.fit_transform(df['ALCOHOL CONSUMING'])\n",
    "df['COUGHING']=le.fit_transform(df['COUGHING'])\n",
    "df['SHORTNESS OF BREATH']=le.fit_transform(df['SHORTNESS OF BREATH'])\n",
    "df['SWALLOWING DIFFICULTY']=le.fit_transform(df['SWALLOWING DIFFICULTY'])\n",
    "df['CHEST PAIN']=le.fit_transform(df['CHEST PAIN'])\n",
    "df['LUNG_CANCER']=le.fit_transform(df['LUNG_CANCER'])\n",
    "print(df)   #1-male 0-female   1-yes 0-no"
   ]
  },
  {
   "cell_type": "code",
   "execution_count": 8,
   "metadata": {},
   "outputs": [
    {
     "name": "stdout",
     "output_type": "stream",
     "text": [
      "<class 'pandas.core.frame.DataFrame'>\n",
      "Index: 276 entries, 0 to 283\n",
      "Data columns (total 16 columns):\n",
      " #   Column                 Non-Null Count  Dtype\n",
      "---  ------                 --------------  -----\n",
      " 0   GENDER                 276 non-null    int32\n",
      " 1   AGE                    276 non-null    int64\n",
      " 2   SMOKING                276 non-null    int64\n",
      " 3   YELLOW_FINGERS         276 non-null    int64\n",
      " 4   ANXIETY                276 non-null    int64\n",
      " 5   PEER_PRESSURE          276 non-null    int64\n",
      " 6   CHRONIC DISEASE        276 non-null    int64\n",
      " 7   FATIGUE                276 non-null    int64\n",
      " 8   ALLERGY                276 non-null    int64\n",
      " 9   WHEEZING               276 non-null    int64\n",
      " 10  ALCOHOL CONSUMING      276 non-null    int64\n",
      " 11  COUGHING               276 non-null    int64\n",
      " 12  SHORTNESS OF BREATH    276 non-null    int64\n",
      " 13  SWALLOWING DIFFICULTY  276 non-null    int64\n",
      " 14  CHEST PAIN             276 non-null    int64\n",
      " 15  LUNG_CANCER            276 non-null    int64\n",
      "dtypes: int32(1), int64(15)\n",
      "memory usage: 35.6 KB\n",
      "None\n"
     ]
    }
   ],
   "source": [
    "print(df.info())"
   ]
  },
  {
   "cell_type": "code",
   "execution_count": 9,
   "metadata": {},
   "outputs": [
    {
     "name": "stdout",
     "output_type": "stream",
     "text": [
      "           GENDER         AGE     SMOKING  YELLOW_FINGERS     ANXIETY  \\\n",
      "count  276.000000  276.000000  276.000000      276.000000  276.000000   \n",
      "mean     0.514493   62.909420    0.543478        0.576087    0.496377   \n",
      "std      0.500698    8.379355    0.499011        0.495075    0.500895   \n",
      "min      0.000000   21.000000    0.000000        0.000000    0.000000   \n",
      "25%      0.000000   57.750000    0.000000        0.000000    0.000000   \n",
      "50%      1.000000   62.500000    1.000000        1.000000    0.000000   \n",
      "75%      1.000000   69.000000    1.000000        1.000000    1.000000   \n",
      "max      1.000000   87.000000    1.000000        1.000000    1.000000   \n",
      "\n",
      "       PEER_PRESSURE  CHRONIC DISEASE    FATIGUE     ALLERGY     WHEEZING  \\\n",
      "count     276.000000       276.000000  276.000000  276.000000  276.000000   \n",
      "mean        0.507246         0.521739    0.663043    0.547101    0.547101   \n",
      "std         0.500856         0.500435    0.473529    0.498681    0.498681   \n",
      "min         0.000000         0.000000    0.000000    0.000000    0.000000   \n",
      "25%         0.000000         0.000000    0.000000    0.000000    0.000000   \n",
      "50%         1.000000         1.000000    1.000000    1.000000    1.000000   \n",
      "75%         1.000000         1.000000    1.000000    1.000000    1.000000   \n",
      "max         1.000000         1.000000    1.000000    1.000000    1.000000   \n",
      "\n",
      "       ALCOHOL CONSUMING    COUGHING  SHORTNESS OF BREATH  \\\n",
      "count         276.000000  276.000000           276.000000   \n",
      "mean            0.550725    0.576087             0.630435   \n",
      "std             0.498324    0.495075             0.483564   \n",
      "min             0.000000    0.000000             0.000000   \n",
      "25%             0.000000    0.000000             0.000000   \n",
      "50%             1.000000    1.000000             1.000000   \n",
      "75%             1.000000    1.000000             1.000000   \n",
      "max             1.000000    1.000000             1.000000   \n",
      "\n",
      "       SWALLOWING DIFFICULTY  CHEST PAIN  LUNG_CANCER  \n",
      "count             276.000000  276.000000   276.000000  \n",
      "mean                0.467391    0.557971     0.862319  \n",
      "std                 0.499842    0.497530     0.345191  \n",
      "min                 0.000000    0.000000     0.000000  \n",
      "25%                 0.000000    0.000000     1.000000  \n",
      "50%                 0.000000    1.000000     1.000000  \n",
      "75%                 1.000000    1.000000     1.000000  \n",
      "max                 1.000000    1.000000     1.000000  \n"
     ]
    }
   ],
   "source": [
    "print(df.describe())"
   ]
  },
  {
   "cell_type": "code",
   "execution_count": null,
   "metadata": {},
   "outputs": [],
   "source": []
  }
 ],
 "metadata": {
  "kernelspec": {
   "display_name": "base",
   "language": "python",
   "name": "python3"
  },
  "language_info": {
   "codemirror_mode": {
    "name": "ipython",
    "version": 3
   },
   "file_extension": ".py",
   "mimetype": "text/x-python",
   "name": "python",
   "nbconvert_exporter": "python",
   "pygments_lexer": "ipython3",
   "version": "3.11.5"
  }
 },
 "nbformat": 4,
 "nbformat_minor": 2
}
