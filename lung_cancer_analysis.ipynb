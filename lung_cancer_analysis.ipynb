{
 "cells": [
  {
   "cell_type": "markdown",
   "metadata": {},
   "source": [
    "# Importing dataset"
   ]
  },
  {
   "cell_type": "code",
   "execution_count": 1,
   "metadata": {
    "tags": []
   },
   "outputs": [
    {
     "name": "stdout",
     "output_type": "stream",
     "text": [
      "    GENDER  AGE  SMOKING  YELLOW_FINGERS  ANXIETY  PEER_PRESSURE  \\\n",
      "0        M   69        1               2        2              1   \n",
      "1        M   74        2               1        1              1   \n",
      "2        F   59        1               1        1              2   \n",
      "3        M   63        2               2        2              1   \n",
      "4        F   63        1               2        1              1   \n",
      "..     ...  ...      ...             ...      ...            ...   \n",
      "304      F   56        1               1        1              2   \n",
      "305      M   70        2               1        1              1   \n",
      "306      M   58        2               1        1              1   \n",
      "307      M   67        2               1        2              1   \n",
      "308      M   62        1               1        1              2   \n",
      "\n",
      "     CHRONIC DISEASE  FATIGUE   ALLERGY   WHEEZING  ALCOHOL CONSUMING  \\\n",
      "0                  1         2         1         2                  2   \n",
      "1                  2         2         2         1                  1   \n",
      "2                  1         2         1         2                  1   \n",
      "3                  1         1         1         1                  2   \n",
      "4                  1         1         1         2                  1   \n",
      "..               ...       ...       ...       ...                ...   \n",
      "304                2         2         1         1                  2   \n",
      "305                1         2         2         2                  2   \n",
      "306                1         1         2         2                  2   \n",
      "307                1         2         2         1                  2   \n",
      "308                1         2         2         2                  2   \n",
      "\n",
      "     COUGHING  SHORTNESS OF BREATH  SWALLOWING DIFFICULTY  CHEST PAIN  \\\n",
      "0           2                    2                      2           2   \n",
      "1           1                    2                      2           2   \n",
      "2           2                    2                      1           2   \n",
      "3           1                    1                      2           2   \n",
      "4           2                    2                      1           1   \n",
      "..        ...                  ...                    ...         ...   \n",
      "304         2                    2                      2           1   \n",
      "305         2                    2                      1           2   \n",
      "306         2                    1                      1           2   \n",
      "307         2                    2                      1           2   \n",
      "308         1                    1                      2           1   \n",
      "\n",
      "    LUNG_CANCER  \n",
      "0           YES  \n",
      "1           YES  \n",
      "2            NO  \n",
      "3            NO  \n",
      "4            NO  \n",
      "..          ...  \n",
      "304         YES  \n",
      "305         YES  \n",
      "306         YES  \n",
      "307         YES  \n",
      "308         YES  \n",
      "\n",
      "[309 rows x 16 columns]\n"
     ]
    }
   ],
   "source": [
    "import pandas\n",
    "\n",
    "df = pandas.read_csv('survey lung cancer.csv')\n",
    "print(df)"
   ]
  },
  {
   "cell_type": "markdown",
   "metadata": {},
   "source": [
    "# Data Cleaning"
   ]
  },
  {
   "cell_type": "code",
   "execution_count": 218,
   "metadata": {},
   "outputs": [
    {
     "data": {
      "text/plain": [
       "'\\nprint(df.shape)\\nprint(df.duplicated().sum())\\ndf = df.drop_duplicates()\\nprint(df)\\nprint(df.shape)\\n'"
      ]
     },
     "execution_count": 218,
     "metadata": {},
     "output_type": "execute_result"
    }
   ],
   "source": [
    "# Remove duplicate rows\n",
    "\n",
    "'''\n",
    "print(df.shape)\n",
    "print(df.duplicated().sum())\n",
    "df = df.drop_duplicates()\n",
    "print(df)\n",
    "print(df.shape)\n",
    "'''"
   ]
  },
  {
   "cell_type": "code",
   "execution_count": 2,
   "metadata": {},
   "outputs": [
    {
     "name": "stdout",
     "output_type": "stream",
     "text": [
      "GENDER                   0\n",
      "AGE                      0\n",
      "SMOKING                  0\n",
      "YELLOW_FINGERS           0\n",
      "ANXIETY                  0\n",
      "PEER_PRESSURE            0\n",
      "CHRONIC DISEASE          0\n",
      "FATIGUE                  0\n",
      "ALLERGY                  0\n",
      "WHEEZING                 0\n",
      "ALCOHOL CONSUMING        0\n",
      "COUGHING                 0\n",
      "SHORTNESS OF BREATH      0\n",
      "SWALLOWING DIFFICULTY    0\n",
      "CHEST PAIN               0\n",
      "LUNG_CANCER              0\n",
      "dtype: int64\n"
     ]
    }
   ],
   "source": [
    "print(df.isnull().sum())"
   ]
  },
  {
   "cell_type": "code",
   "execution_count": 3,
   "metadata": {},
   "outputs": [],
   "source": [
    "from sklearn import preprocessing\n",
    "le = preprocessing.LabelEncoder()\n",
    "df['GENDER'] = le.fit_transform(df['GENDER'])"
   ]
  },
  {
   "cell_type": "code",
   "execution_count": 5,
   "metadata": {},
   "outputs": [
    {
     "name": "stdout",
     "output_type": "stream",
     "text": [
      "     GENDER  AGE  SMOKING  YELLOW_FINGERS  ANXIETY  PEER_PRESSURE  \\\n",
      "0         1   69        0               1        1              0   \n",
      "1         1   74        1               0        0              0   \n",
      "2         0   59        0               0        0              1   \n",
      "3         1   63        1               1        1              0   \n",
      "4         0   63        0               1        0              0   \n",
      "..      ...  ...      ...             ...      ...            ...   \n",
      "304       0   56        0               0        0              1   \n",
      "305       1   70        1               0        0              0   \n",
      "306       1   58        1               0        0              0   \n",
      "307       1   67        1               0        1              0   \n",
      "308       1   62        0               0        0              1   \n",
      "\n",
      "     CHRONIC DISEASE  FATIGUE   ALLERGY   WHEEZING  ALCOHOL CONSUMING  \\\n",
      "0                  0         1         0         1                  1   \n",
      "1                  1         1         1         0                  0   \n",
      "2                  0         1         0         1                  0   \n",
      "3                  0         0         0         0                  1   \n",
      "4                  0         0         0         1                  0   \n",
      "..               ...       ...       ...       ...                ...   \n",
      "304                1         1         0         0                  1   \n",
      "305                0         1         1         1                  1   \n",
      "306                0         0         1         1                  1   \n",
      "307                0         1         1         0                  1   \n",
      "308                0         1         1         1                  1   \n",
      "\n",
      "     COUGHING  SHORTNESS OF BREATH  SWALLOWING DIFFICULTY  CHEST PAIN  \\\n",
      "0           1                    1                      1           1   \n",
      "1           0                    1                      1           1   \n",
      "2           1                    1                      0           1   \n",
      "3           0                    0                      1           1   \n",
      "4           1                    1                      0           0   \n",
      "..        ...                  ...                    ...         ...   \n",
      "304         1                    1                      1           0   \n",
      "305         1                    1                      0           1   \n",
      "306         1                    0                      0           1   \n",
      "307         1                    1                      0           1   \n",
      "308         0                    0                      1           0   \n",
      "\n",
      "     LUNG_CANCER  \n",
      "0              1  \n",
      "1              1  \n",
      "2              0  \n",
      "3              0  \n",
      "4              0  \n",
      "..           ...  \n",
      "304            1  \n",
      "305            1  \n",
      "306            1  \n",
      "307            1  \n",
      "308            1  \n",
      "\n",
      "[309 rows x 16 columns]\n"
     ]
    }
   ],
   "source": [
    "df['SMOKING'] = le.fit_transform(df['SMOKING'])\n",
    "df['YELLOW_FINGERS'] = le.fit_transform(df['YELLOW_FINGERS'])\n",
    "df['ANXIETY'] = le.fit_transform(df['ANXIETY'])\n",
    "df['PEER_PRESSURE'] = le.fit_transform(df['PEER_PRESSURE'])\n",
    "df['CHRONIC DISEASE'] = le.fit_transform(df['CHRONIC DISEASE'])\n",
    "df['FATIGUE '] = le.fit_transform(df['FATIGUE '])\n",
    "df['ALLERGY '] = le.fit_transform(df['ALLERGY '])\n",
    "df['WHEEZING'] = le.fit_transform(df['WHEEZING'])\n",
    "df['ALCOHOL CONSUMING'] = le.fit_transform(df['ALCOHOL CONSUMING'])\n",
    "df['COUGHING'] = le.fit_transform(df['COUGHING'])\n",
    "df['SHORTNESS OF BREATH'] = le.fit_transform(df['SHORTNESS OF BREATH'])\n",
    "df['SWALLOWING DIFFICULTY'] = le.fit_transform(df['SWALLOWING DIFFICULTY'])\n",
    "df['CHEST PAIN'] = le.fit_transform(df['CHEST PAIN'])\n",
    "\n",
    "df['LUNG_CANCER'] = le.fit_transform(df['LUNG_CANCER'])\n",
    "print(df)   #1-male 0-female   1-yes 0-no"
   ]
  },
  {
   "cell_type": "code",
   "execution_count": 6,
   "metadata": {},
   "outputs": [
    {
     "name": "stdout",
     "output_type": "stream",
     "text": [
      "<class 'pandas.core.frame.DataFrame'>\n",
      "RangeIndex: 309 entries, 0 to 308\n",
      "Data columns (total 16 columns):\n",
      " #   Column                 Non-Null Count  Dtype\n",
      "---  ------                 --------------  -----\n",
      " 0   GENDER                 309 non-null    int32\n",
      " 1   AGE                    309 non-null    int64\n",
      " 2   SMOKING                309 non-null    int64\n",
      " 3   YELLOW_FINGERS         309 non-null    int64\n",
      " 4   ANXIETY                309 non-null    int64\n",
      " 5   PEER_PRESSURE          309 non-null    int64\n",
      " 6   CHRONIC DISEASE        309 non-null    int64\n",
      " 7   FATIGUE                309 non-null    int64\n",
      " 8   ALLERGY                309 non-null    int64\n",
      " 9   WHEEZING               309 non-null    int64\n",
      " 10  ALCOHOL CONSUMING      309 non-null    int64\n",
      " 11  COUGHING               309 non-null    int64\n",
      " 12  SHORTNESS OF BREATH    309 non-null    int64\n",
      " 13  SWALLOWING DIFFICULTY  309 non-null    int64\n",
      " 14  CHEST PAIN             309 non-null    int64\n",
      " 15  LUNG_CANCER            309 non-null    int64\n",
      "dtypes: int32(1), int64(15)\n",
      "memory usage: 37.5 KB\n",
      "None\n"
     ]
    }
   ],
   "source": [
    "print(df.info())"
   ]
  },
  {
   "cell_type": "code",
   "execution_count": 7,
   "metadata": {},
   "outputs": [
    {
     "name": "stdout",
     "output_type": "stream",
     "text": [
      "           GENDER         AGE     SMOKING  YELLOW_FINGERS     ANXIETY  \\\n",
      "count  309.000000  309.000000  309.000000      309.000000  309.000000   \n",
      "mean     0.524272   62.673139    0.563107        0.569579    0.498382   \n",
      "std      0.500221    8.210301    0.496806        0.495938    0.500808   \n",
      "min      0.000000   21.000000    0.000000        0.000000    0.000000   \n",
      "25%      0.000000   57.000000    0.000000        0.000000    0.000000   \n",
      "50%      1.000000   62.000000    1.000000        1.000000    0.000000   \n",
      "75%      1.000000   69.000000    1.000000        1.000000    1.000000   \n",
      "max      1.000000   87.000000    1.000000        1.000000    1.000000   \n",
      "\n",
      "       PEER_PRESSURE  CHRONIC DISEASE    FATIGUE     ALLERGY     WHEEZING  \\\n",
      "count     309.000000       309.000000  309.000000  309.000000  309.000000   \n",
      "mean        0.501618         0.504854    0.673139    0.556634    0.556634   \n",
      "std         0.500808         0.500787    0.469827    0.497588    0.497588   \n",
      "min         0.000000         0.000000    0.000000    0.000000    0.000000   \n",
      "25%         0.000000         0.000000    0.000000    0.000000    0.000000   \n",
      "50%         1.000000         1.000000    1.000000    1.000000    1.000000   \n",
      "75%         1.000000         1.000000    1.000000    1.000000    1.000000   \n",
      "max         1.000000         1.000000    1.000000    1.000000    1.000000   \n",
      "\n",
      "       ALCOHOL CONSUMING    COUGHING  SHORTNESS OF BREATH  \\\n",
      "count         309.000000  309.000000           309.000000   \n",
      "mean            0.556634    0.579288             0.640777   \n",
      "std             0.497588    0.494474             0.480551   \n",
      "min             0.000000    0.000000             0.000000   \n",
      "25%             0.000000    0.000000             0.000000   \n",
      "50%             1.000000    1.000000             1.000000   \n",
      "75%             1.000000    1.000000             1.000000   \n",
      "max             1.000000    1.000000             1.000000   \n",
      "\n",
      "       SWALLOWING DIFFICULTY  CHEST PAIN  LUNG_CANCER  \n",
      "count             309.000000  309.000000   309.000000  \n",
      "mean                0.469256    0.556634     0.873786  \n",
      "std                 0.499863    0.497588     0.332629  \n",
      "min                 0.000000    0.000000     0.000000  \n",
      "25%                 0.000000    0.000000     1.000000  \n",
      "50%                 0.000000    1.000000     1.000000  \n",
      "75%                 1.000000    1.000000     1.000000  \n",
      "max                 1.000000    1.000000     1.000000  \n"
     ]
    }
   ],
   "source": [
    "print(df.describe())"
   ]
  },
  {
   "cell_type": "markdown",
   "metadata": {},
   "source": [
    "# Regression Analysis"
   ]
  },
  {
   "cell_type": "markdown",
   "metadata": {},
   "source": [
    "Logistic Regression using factors: Smoking, Anxiety, Chronic Disease, Allergy, Alcohol Consuming"
   ]
  },
  {
   "cell_type": "code",
   "execution_count": 8,
   "metadata": {},
   "outputs": [
    {
     "name": "stdout",
     "output_type": "stream",
     "text": [
      "[[0.55826661 0.98541621 0.43721584 1.94186997 1.4344014 ]]\n",
      "269    1\n",
      "99     1\n",
      "280    0\n",
      "258    1\n",
      "268    1\n",
      "      ..\n",
      "263    1\n",
      "201    1\n",
      "105    1\n",
      "250    1\n",
      "51     1\n",
      "Name: LUNG_CANCER, Length: 62, dtype: int64\n",
      "              precision    recall  f1-score   support\n",
      "\n",
      "           0       1.00      0.12      0.22         8\n",
      "           1       0.89      1.00      0.94        54\n",
      "\n",
      "    accuracy                           0.89        62\n",
      "   macro avg       0.94      0.56      0.58        62\n",
      "weighted avg       0.90      0.89      0.85        62\n",
      "\n"
     ]
    }
   ],
   "source": [
    "from sklearn.model_selection import train_test_split\n",
    "from sklearn.linear_model import LogisticRegression\n",
    "from sklearn.metrics import classification_report, accuracy_score, f1_score\n",
    "\n",
    "# Logistic regression model with 'SMOKING','ANXIETY','CHRONIC DISEASE', 'ALLERGY ', 'ALCOHOL CONSUMING' factors\n",
    "\n",
    "X = df[['SMOKING', 'ANXIETY', 'CHRONIC DISEASE', 'ALLERGY ', 'ALCOHOL CONSUMING']]\n",
    "Y = df['LUNG_CANCER']\n",
    "\n",
    "x_train, x_test, y_train, y_test = train_test_split(X, Y, test_size= 0.2)\n",
    "lr_model = LogisticRegression()\n",
    "lr_model.fit(x_train, y_train)\n",
    "print(lr_model.coef_)\n",
    "\n",
    "#print(x_test)\n",
    "y_test_predict = lr_model.predict(x_test)\n",
    "print(y_test)\n",
    "\n",
    "lr_cr = classification_report(y_test, y_test_predict)\n",
    "print(lr_cr)"
   ]
  },
  {
   "cell_type": "markdown",
   "metadata": {},
   "source": [
    "Logistic Regression using factors: Shortness of Breath, Wheezing, Coughing, Allergy, Yellow Fingers"
   ]
  },
  {
   "cell_type": "code",
   "execution_count": 225,
   "metadata": {},
   "outputs": [
    {
     "name": "stdout",
     "output_type": "stream",
     "text": [
      "[[0.11133884 0.7654785  0.78685384 1.94651686 1.52170766]]\n",
      "268    1\n",
      "145    1\n",
      "176    1\n",
      "80     0\n",
      "21     1\n",
      "      ..\n",
      "59     1\n",
      "41     1\n",
      "98     1\n",
      "132    1\n",
      "92     1\n",
      "Name: LUNG_CANCER, Length: 62, dtype: int32\n",
      "              precision    recall  f1-score   support\n",
      "\n",
      "           0       1.00      0.33      0.50         9\n",
      "           1       0.90      1.00      0.95        53\n",
      "\n",
      "    accuracy                           0.90        62\n",
      "   macro avg       0.95      0.67      0.72        62\n",
      "weighted avg       0.91      0.90      0.88        62\n",
      "\n"
     ]
    }
   ],
   "source": [
    "# Logistic regression model with 'SHORTNESS OF BREATH','WHEEZING','COUGHING','ALLERGY ','YELLOW_FINGERS' factors\n",
    "\n",
    "X = df[['SHORTNESS OF BREATH','WHEEZING','COUGHING','ALLERGY ','YELLOW_FINGERS']]\n",
    "Y = df['LUNG_CANCER']\n",
    "\n",
    "x_train, x_test, y_train, y_test = train_test_split(X, Y, test_size= 0.2)\n",
    "lr_model = LogisticRegression()\n",
    "lr_model.fit(x_train, y_train)\n",
    "print(lr_model.coef_)\n",
    "\n",
    "#print(x_test)\n",
    "y_test_predict = lr_model.predict(x_test)\n",
    "print(y_test)\n",
    "\n",
    "lr_cr = classification_report(y_test, y_test_predict)\n",
    "print(lr_cr)"
   ]
  },
  {
   "cell_type": "markdown",
   "metadata": {},
   "source": [
    "Logistic Regression using all given factors"
   ]
  },
  {
   "cell_type": "code",
   "execution_count": 226,
   "metadata": {},
   "outputs": [
    {
     "name": "stdout",
     "output_type": "stream",
     "text": [
      "[[0.02008102 0.02002593 0.44827171 0.69942054 1.0007516  1.30888781\n",
      "  1.17252801 1.26301352 1.30532923 1.13220143 1.05275602 1.11094636\n",
      "  0.48244525 1.20944444 0.56294485]]\n",
      "180    1\n",
      "27     0\n",
      "179    1\n",
      "169    1\n",
      "284    1\n",
      "      ..\n",
      "186    1\n",
      "264    1\n",
      "75     1\n",
      "235    1\n",
      "10     1\n",
      "Name: LUNG_CANCER, Length: 62, dtype: int32\n",
      "              precision    recall  f1-score   support\n",
      "\n",
      "           0       0.33      0.20      0.25         5\n",
      "           1       0.93      0.96      0.95        57\n",
      "\n",
      "    accuracy                           0.90        62\n",
      "   macro avg       0.63      0.58      0.60        62\n",
      "weighted avg       0.88      0.90      0.89        62\n",
      "\n"
     ]
    }
   ],
   "source": [
    "# Logistic regression model with all the factors\n",
    "\n",
    "temp_list = list(df.columns)\n",
    "temp_list.remove('LUNG_CANCER')\n",
    "X = df[temp_list]\n",
    "Y = df['LUNG_CANCER']\n",
    "\n",
    "x_train, x_test, y_train, y_test = train_test_split(X, Y, test_size=0.2)\n",
    "lr_model = LogisticRegression(max_iter=1000)\n",
    "\n",
    "lr_model.fit(x_train, y_train)\n",
    "print(lr_model.coef_)\n",
    "\n",
    "#print(x_test)\n",
    "y_test_predict = lr_model.predict(x_test)\n",
    "print(y_test)\n",
    "\n",
    "lr_cr = classification_report(y_test, y_test_predict)\n",
    "print(lr_cr)"
   ]
  },
  {
   "cell_type": "markdown",
   "metadata": {},
   "source": [
    "# Visualizations"
   ]
  },
  {
   "cell_type": "code",
   "execution_count": 227,
   "metadata": {},
   "outputs": [
    {
     "data": {
      "text/plain": [
       "<Axes: xlabel='LUNG_CANCER'>"
      ]
     },
     "execution_count": 227,
     "metadata": {},
     "output_type": "execute_result"
    },
    {
     "data": {
      "image/png": "[encoded data removed]",
      "text/plain": [
       "<Figure size 640x480 with 1 Axes>"
      ]
     },
     "metadata": {},
     "output_type": "display_data"
    }
   ],
   "source": [
    "t = df.groupby('LUNG_CANCER').mean()\n",
    "\n",
    "t.plot.bar(y='COUGHING')"
   ]
  },
  {
   "cell_type": "code",
   "execution_count": 228,
   "metadata": {},
   "outputs": [
    {
     "data": {
      "text/plain": [
       "<Axes: xlabel='COUGHING'>"
      ]
     },
     "execution_count": 228,
     "metadata": {},
     "output_type": "execute_result"
    },
    {
     "data": {
      "image/png": "[encoded data removed]",
      "text/plain": [
       "<Figure size 640x480 with 1 Axes>"
      ]
     },
     "metadata": {},
     "output_type": "display_data"
    }
   ],
   "source": [
    "t = df.groupby('COUGHING').mean()\n",
    "\n",
    "t.plot.bar(y='LUNG_CANCER')"
   ]
  }
 ],
 "metadata": {
  "kernelspec": {
   "display_name": "base",
   "language": "python",
   "name": "python3"
  },
  "language_info": {
   "codemirror_mode": {
    "name": "ipython",
    "version": 3
   },
   "file_extension": ".py",
   "mimetype": "text/x-python",
   "name": "python",
   "nbconvert_exporter": "python",
   "pygments_lexer": "ipython3",
   "version": "3.11.5"
  }
 },
 "nbformat": 4,
 "nbformat_minor": 2
}
